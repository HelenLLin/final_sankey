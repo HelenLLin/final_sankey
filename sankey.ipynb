{
 "cells": [
  {
   "cell_type": "code",
   "execution_count": 1,
   "metadata": {},
   "outputs": [],
   "source": [
    "import numpy as np\n",
    "import pandas as pd\n",
    "import matplotlib.pyplot as plt\n",
    "import plotly.graph_objs as go"
   ]
  },
  {
   "cell_type": "code",
   "execution_count": 3,
   "metadata": {},
   "outputs": [],
   "source": [
    "df_netflix = pd.read_csv('data/netflix_titles.csv')\n",
    "df_hulu = pd.read_csv('data/hulu_titles.csv')"
   ]
  },
  {
   "cell_type": "code",
   "execution_count": 6,
   "metadata": {},
   "outputs": [],
   "source": [
    "df_netflix = df_netflix.dropna(subset=['country','date_added'])\n",
    "df_hulu = df_hulu.dropna(subset=['country','date_added'])"
   ]
  },
  {
   "cell_type": "code",
   "execution_count": 7,
   "metadata": {},
   "outputs": [
    {
     "data": {
      "text/html": [
       "<div>\n",
       "<style scoped>\n",
       "    .dataframe tbody tr th:only-of-type {\n",
       "        vertical-align: middle;\n",
       "    }\n",
       "\n",
       "    .dataframe tbody tr th {\n",
       "        vertical-align: top;\n",
       "    }\n",
       "\n",
       "    .dataframe thead th {\n",
       "        text-align: right;\n",
       "    }\n",
       "</style>\n",
       "<table border=\"1\" class=\"dataframe\">\n",
       "  <thead>\n",
       "    <tr style=\"text-align: right;\">\n",
       "      <th></th>\n",
       "      <th>0</th>\n",
       "      <th>1</th>\n",
       "      <th>4</th>\n",
       "      <th>7</th>\n",
       "      <th>8</th>\n",
       "    </tr>\n",
       "  </thead>\n",
       "  <tbody>\n",
       "    <tr>\n",
       "      <th>show_id</th>\n",
       "      <td>s1</td>\n",
       "      <td>s2</td>\n",
       "      <td>s5</td>\n",
       "      <td>s8</td>\n",
       "      <td>s9</td>\n",
       "    </tr>\n",
       "    <tr>\n",
       "      <th>type</th>\n",
       "      <td>Movie</td>\n",
       "      <td>TV Show</td>\n",
       "      <td>TV Show</td>\n",
       "      <td>Movie</td>\n",
       "      <td>TV Show</td>\n",
       "    </tr>\n",
       "    <tr>\n",
       "      <th>title</th>\n",
       "      <td>Dick Johnson Is Dead</td>\n",
       "      <td>Blood &amp; Water</td>\n",
       "      <td>Kota Factory</td>\n",
       "      <td>Sankofa</td>\n",
       "      <td>The Great British Baking Show</td>\n",
       "    </tr>\n",
       "    <tr>\n",
       "      <th>director</th>\n",
       "      <td>Kirsten Johnson</td>\n",
       "      <td>NaN</td>\n",
       "      <td>NaN</td>\n",
       "      <td>Haile Gerima</td>\n",
       "      <td>Andy Devonshire</td>\n",
       "    </tr>\n",
       "    <tr>\n",
       "      <th>cast</th>\n",
       "      <td>NaN</td>\n",
       "      <td>Ama Qamata, Khosi Ngema, Gail Mabalane, Thaban...</td>\n",
       "      <td>Mayur More, Jitendra Kumar, Ranjan Raj, Alam K...</td>\n",
       "      <td>Kofi Ghanaba, Oyafunmike Ogunlano, Alexandra D...</td>\n",
       "      <td>Mel Giedroyc, Sue Perkins, Mary Berry, Paul Ho...</td>\n",
       "    </tr>\n",
       "    <tr>\n",
       "      <th>country</th>\n",
       "      <td>United States</td>\n",
       "      <td>South Africa</td>\n",
       "      <td>India</td>\n",
       "      <td>United States, Ghana, Burkina Faso, United Kin...</td>\n",
       "      <td>United Kingdom</td>\n",
       "    </tr>\n",
       "    <tr>\n",
       "      <th>date_added</th>\n",
       "      <td>September 25, 2021</td>\n",
       "      <td>September 24, 2021</td>\n",
       "      <td>September 24, 2021</td>\n",
       "      <td>September 24, 2021</td>\n",
       "      <td>September 24, 2021</td>\n",
       "    </tr>\n",
       "    <tr>\n",
       "      <th>release_year</th>\n",
       "      <td>2020</td>\n",
       "      <td>2021</td>\n",
       "      <td>2021</td>\n",
       "      <td>1993</td>\n",
       "      <td>2021</td>\n",
       "    </tr>\n",
       "    <tr>\n",
       "      <th>rating</th>\n",
       "      <td>PG-13</td>\n",
       "      <td>TV-MA</td>\n",
       "      <td>TV-MA</td>\n",
       "      <td>TV-MA</td>\n",
       "      <td>TV-14</td>\n",
       "    </tr>\n",
       "    <tr>\n",
       "      <th>duration</th>\n",
       "      <td>90 min</td>\n",
       "      <td>2 Seasons</td>\n",
       "      <td>2 Seasons</td>\n",
       "      <td>125 min</td>\n",
       "      <td>9 Seasons</td>\n",
       "    </tr>\n",
       "    <tr>\n",
       "      <th>listed_in</th>\n",
       "      <td>Documentaries</td>\n",
       "      <td>International TV Shows, TV Dramas, TV Mysteries</td>\n",
       "      <td>International TV Shows, Romantic TV Shows, TV ...</td>\n",
       "      <td>Dramas, Independent Movies, International Movies</td>\n",
       "      <td>British TV Shows, Reality TV</td>\n",
       "    </tr>\n",
       "    <tr>\n",
       "      <th>description</th>\n",
       "      <td>As her father nears the end of his life, filmm...</td>\n",
       "      <td>After crossing paths at a party, a Cape Town t...</td>\n",
       "      <td>In a city of coaching centers known to train I...</td>\n",
       "      <td>On a photo shoot in Ghana, an American model s...</td>\n",
       "      <td>A talented batch of amateur bakers face off in...</td>\n",
       "    </tr>\n",
       "    <tr>\n",
       "      <th>countries</th>\n",
       "      <td>(United States,)</td>\n",
       "      <td>(South Africa,)</td>\n",
       "      <td>(India,)</td>\n",
       "      <td>(Burkina Faso, Ethiopia, Germany, Ghana, Unite...</td>\n",
       "      <td>(United Kingdom,)</td>\n",
       "    </tr>\n",
       "    <tr>\n",
       "      <th>categories</th>\n",
       "      <td>(Documentaries,)</td>\n",
       "      <td>(International TV Shows, TV Dramas, TV Mysteries)</td>\n",
       "      <td>(International TV Shows, Romantic TV Shows, TV...</td>\n",
       "      <td>(Dramas, Independent Movies, International Mov...</td>\n",
       "      <td>(British TV Shows, Reality TV)</td>\n",
       "    </tr>\n",
       "    <tr>\n",
       "      <th>clean_cat</th>\n",
       "      <td>[Documentaries]</td>\n",
       "      <td>[International, Dramas, Mysteries]</td>\n",
       "      <td>[International, Romance, Comedies]</td>\n",
       "      <td>[Dramas, Independent, International]</td>\n",
       "      <td>[International, Reality TV]</td>\n",
       "    </tr>\n",
       "  </tbody>\n",
       "</table>\n",
       "</div>"
      ],
      "text/plain": [
       "                                                              0  \\\n",
       "show_id                                                      s1   \n",
       "type                                                      Movie   \n",
       "title                                      Dick Johnson Is Dead   \n",
       "director                                        Kirsten Johnson   \n",
       "cast                                                        NaN   \n",
       "country                                           United States   \n",
       "date_added                                   September 25, 2021   \n",
       "release_year                                               2020   \n",
       "rating                                                    PG-13   \n",
       "duration                                                 90 min   \n",
       "listed_in                                         Documentaries   \n",
       "description   As her father nears the end of his life, filmm...   \n",
       "countries                                      (United States,)   \n",
       "categories                                     (Documentaries,)   \n",
       "clean_cat                                       [Documentaries]   \n",
       "\n",
       "                                                              1  \\\n",
       "show_id                                                      s2   \n",
       "type                                                    TV Show   \n",
       "title                                             Blood & Water   \n",
       "director                                                    NaN   \n",
       "cast          Ama Qamata, Khosi Ngema, Gail Mabalane, Thaban...   \n",
       "country                                            South Africa   \n",
       "date_added                                   September 24, 2021   \n",
       "release_year                                               2021   \n",
       "rating                                                    TV-MA   \n",
       "duration                                              2 Seasons   \n",
       "listed_in       International TV Shows, TV Dramas, TV Mysteries   \n",
       "description   After crossing paths at a party, a Cape Town t...   \n",
       "countries                                       (South Africa,)   \n",
       "categories    (International TV Shows, TV Dramas, TV Mysteries)   \n",
       "clean_cat                    [International, Dramas, Mysteries]   \n",
       "\n",
       "                                                              4  \\\n",
       "show_id                                                      s5   \n",
       "type                                                    TV Show   \n",
       "title                                              Kota Factory   \n",
       "director                                                    NaN   \n",
       "cast          Mayur More, Jitendra Kumar, Ranjan Raj, Alam K...   \n",
       "country                                                   India   \n",
       "date_added                                   September 24, 2021   \n",
       "release_year                                               2021   \n",
       "rating                                                    TV-MA   \n",
       "duration                                              2 Seasons   \n",
       "listed_in     International TV Shows, Romantic TV Shows, TV ...   \n",
       "description   In a city of coaching centers known to train I...   \n",
       "countries                                              (India,)   \n",
       "categories    (International TV Shows, Romantic TV Shows, TV...   \n",
       "clean_cat                    [International, Romance, Comedies]   \n",
       "\n",
       "                                                              7  \\\n",
       "show_id                                                      s8   \n",
       "type                                                      Movie   \n",
       "title                                                   Sankofa   \n",
       "director                                           Haile Gerima   \n",
       "cast          Kofi Ghanaba, Oyafunmike Ogunlano, Alexandra D...   \n",
       "country       United States, Ghana, Burkina Faso, United Kin...   \n",
       "date_added                                   September 24, 2021   \n",
       "release_year                                               1993   \n",
       "rating                                                    TV-MA   \n",
       "duration                                                125 min   \n",
       "listed_in      Dramas, Independent Movies, International Movies   \n",
       "description   On a photo shoot in Ghana, an American model s...   \n",
       "countries     (Burkina Faso, Ethiopia, Germany, Ghana, Unite...   \n",
       "categories    (Dramas, Independent Movies, International Mov...   \n",
       "clean_cat                  [Dramas, Independent, International]   \n",
       "\n",
       "                                                              8  \n",
       "show_id                                                      s9  \n",
       "type                                                    TV Show  \n",
       "title                             The Great British Baking Show  \n",
       "director                                        Andy Devonshire  \n",
       "cast          Mel Giedroyc, Sue Perkins, Mary Berry, Paul Ho...  \n",
       "country                                          United Kingdom  \n",
       "date_added                                   September 24, 2021  \n",
       "release_year                                               2021  \n",
       "rating                                                    TV-14  \n",
       "duration                                              9 Seasons  \n",
       "listed_in                          British TV Shows, Reality TV  \n",
       "description   A talented batch of amateur bakers face off in...  \n",
       "countries                                     (United Kingdom,)  \n",
       "categories                       (British TV Shows, Reality TV)  \n",
       "clean_cat                           [International, Reality TV]  "
      ]
     },
     "execution_count": 7,
     "metadata": {},
     "output_type": "execute_result"
    }
   ],
   "source": [
    "df_netflix['countries'] = df_netflix['country'].str.split(',').apply(lambda l: tuple(sorted(s.strip() for s in l)))\n",
    "df_netflix['categories'] = df_netflix['listed_in'].str.split(',').apply(lambda l: tuple(sorted(s.strip() for s in l)))\n",
    "mapping = {\n",
    "    'Anime Features': 'Anime', 'Anime Series': 'Anime', 'British TV Shows': 'International', 'Children & Family Movies': 'Children & Family', \n",
    "    'Classic & Cult TV': 'Classic & Cult', 'Classic Movies': 'Classic & Cult', 'Crime TV Shows': 'Crime', \n",
    "    'Cult Movies': 'Classic & Cult', 'Docuseries': 'Documentaries', 'Faith & Spirituality': 'Faith & Spirituality', 'Horror Movies': 'Horror', \n",
    "    'Independent Movies': 'Independent', 'International Movies': 'International', 'International TV Shows': 'International', \n",
    "    'Korean TV Shows': 'International', 'Kids\\' TV': 'Children & Family', 'LGBTQ Movies': 'LGBTQ', \n",
    "    'Science & Nature TV': 'Science & Nature', 'Reality TV': 'Reality TV', \n",
    "    'Romantic Movies': 'Romance', 'Romantic TV Shows': 'Romance', 'Sci-Fi & Fantasy': 'Sci-Fi & Fantasy', \n",
    "    'Spanish-Language TV Shows': 'International', 'Sports Movies': 'Sports Movies', 'Stand-Up Comedy': 'Stand-Up Comedy & Talk Shows', \n",
    "    'Stand-Up Comedy & Talk Shows': 'Stand-Up Comedy & Talk Shows', 'Teen TV Shows': 'Teen', 'Thrillers': 'Thriller', 'TV Action & Adventure': 'Action & Adventure', \n",
    "    'TV Comedies': 'Comedies', 'TV Dramas': 'Dramas', 'TV Horror': 'Horror', 'TV Mysteries': 'Mysteries', 'TV Sci-Fi & Fantasy': 'Sci-Fi & Fantasy', \n",
    "    'TV Shows': 'TV Shows', 'TV Thrillers': 'Thriller'\n",
    "}\n",
    "df_netflix['clean_cat'] = df_netflix['categories'].apply(\n",
    "    lambda x: [mapping.get(genre, genre) for genre in x if genre not in ['TV Shows', 'Movies']])\n",
    "df_netflix.head().T"
   ]
  },
  {
   "cell_type": "code",
   "execution_count": 8,
   "metadata": {},
   "outputs": [
    {
     "data": {
      "text/html": [
       "<div>\n",
       "<style scoped>\n",
       "    .dataframe tbody tr th:only-of-type {\n",
       "        vertical-align: middle;\n",
       "    }\n",
       "\n",
       "    .dataframe tbody tr th {\n",
       "        vertical-align: top;\n",
       "    }\n",
       "\n",
       "    .dataframe thead th {\n",
       "        text-align: right;\n",
       "    }\n",
       "</style>\n",
       "<table border=\"1\" class=\"dataframe\">\n",
       "  <thead>\n",
       "    <tr style=\"text-align: right;\">\n",
       "      <th></th>\n",
       "      <th>9</th>\n",
       "      <th>17</th>\n",
       "      <th>19</th>\n",
       "      <th>21</th>\n",
       "      <th>22</th>\n",
       "    </tr>\n",
       "  </thead>\n",
       "  <tbody>\n",
       "    <tr>\n",
       "      <th>show_id</th>\n",
       "      <td>s10</td>\n",
       "      <td>s18</td>\n",
       "      <td>s20</td>\n",
       "      <td>s22</td>\n",
       "      <td>s23</td>\n",
       "    </tr>\n",
       "    <tr>\n",
       "      <th>type</th>\n",
       "      <td>TV Show</td>\n",
       "      <td>TV Show</td>\n",
       "      <td>TV Show</td>\n",
       "      <td>TV Show</td>\n",
       "      <td>TV Show</td>\n",
       "    </tr>\n",
       "    <tr>\n",
       "      <th>title</th>\n",
       "      <td>The Bachelorette</td>\n",
       "      <td>America's Book of Secrets</td>\n",
       "      <td>Beyond Scared Straight</td>\n",
       "      <td>Hoarders</td>\n",
       "      <td>Little Women: Atlanta</td>\n",
       "    </tr>\n",
       "    <tr>\n",
       "      <th>director</th>\n",
       "      <td>NaN</td>\n",
       "      <td>NaN</td>\n",
       "      <td>NaN</td>\n",
       "      <td>NaN</td>\n",
       "      <td>NaN</td>\n",
       "    </tr>\n",
       "    <tr>\n",
       "      <th>cast</th>\n",
       "      <td>NaN</td>\n",
       "      <td>NaN</td>\n",
       "      <td>NaN</td>\n",
       "      <td>NaN</td>\n",
       "      <td>NaN</td>\n",
       "    </tr>\n",
       "    <tr>\n",
       "      <th>country</th>\n",
       "      <td>United States</td>\n",
       "      <td>United States</td>\n",
       "      <td>United States</td>\n",
       "      <td>United States</td>\n",
       "      <td>United States</td>\n",
       "    </tr>\n",
       "    <tr>\n",
       "      <th>date_added</th>\n",
       "      <td>October 20, 2021</td>\n",
       "      <td>October 15, 2021</td>\n",
       "      <td>October 15, 2021</td>\n",
       "      <td>October 15, 2021</td>\n",
       "      <td>October 15, 2021</td>\n",
       "    </tr>\n",
       "    <tr>\n",
       "      <th>release_year</th>\n",
       "      <td>2003</td>\n",
       "      <td>2012</td>\n",
       "      <td>2011</td>\n",
       "      <td>2009</td>\n",
       "      <td>2016</td>\n",
       "    </tr>\n",
       "    <tr>\n",
       "      <th>rating</th>\n",
       "      <td>TV-14</td>\n",
       "      <td>TV-14</td>\n",
       "      <td>TV-14</td>\n",
       "      <td>TV-PG</td>\n",
       "      <td>TV-14</td>\n",
       "    </tr>\n",
       "    <tr>\n",
       "      <th>duration</th>\n",
       "      <td>3 Seasons</td>\n",
       "      <td>1 Season</td>\n",
       "      <td>6 Seasons</td>\n",
       "      <td>7 Seasons</td>\n",
       "      <td>2 Seasons</td>\n",
       "    </tr>\n",
       "    <tr>\n",
       "      <th>listed_in</th>\n",
       "      <td>Reality, Romance</td>\n",
       "      <td>Documentaries, History</td>\n",
       "      <td>Documentaries, Reality, Teen</td>\n",
       "      <td>Health &amp; Wellness, Lifestyle &amp; Culture, Reality</td>\n",
       "      <td>Black Stories, Reality</td>\n",
       "    </tr>\n",
       "    <tr>\n",
       "      <th>description</th>\n",
       "      <td>ABC's romance reality show lets one lucky lady...</td>\n",
       "      <td>America's story can be told in many ways. Whil...</td>\n",
       "      <td>Beyond Scared Straight profiles the new approa...</td>\n",
       "      <td>Each 60-minute episode of Hoarders is a fascin...</td>\n",
       "      <td>In Little Women: Atlanta, the little ladies tu...</td>\n",
       "    </tr>\n",
       "    <tr>\n",
       "      <th>countries</th>\n",
       "      <td>(United States,)</td>\n",
       "      <td>(United States,)</td>\n",
       "      <td>(United States,)</td>\n",
       "      <td>(United States,)</td>\n",
       "      <td>(United States,)</td>\n",
       "    </tr>\n",
       "    <tr>\n",
       "      <th>categories</th>\n",
       "      <td>(Reality, Romance)</td>\n",
       "      <td>(Documentaries, History)</td>\n",
       "      <td>(Documentaries, Reality, Teen)</td>\n",
       "      <td>(Health &amp; Wellness, Lifestyle &amp; Culture, Reality)</td>\n",
       "      <td>(Black Stories, Reality)</td>\n",
       "    </tr>\n",
       "    <tr>\n",
       "      <th>clean_cat</th>\n",
       "      <td>[Reality TV, Romance]</td>\n",
       "      <td>[Documentaries, History]</td>\n",
       "      <td>[Documentaries, Reality TV, Teen]</td>\n",
       "      <td>[Health &amp; Wellness, Lifestyle &amp; Culture, Reali...</td>\n",
       "      <td>[Black Stories, Reality TV]</td>\n",
       "    </tr>\n",
       "  </tbody>\n",
       "</table>\n",
       "</div>"
      ],
      "text/plain": [
       "                                                             9   \\\n",
       "show_id                                                     s10   \n",
       "type                                                    TV Show   \n",
       "title                                          The Bachelorette   \n",
       "director                                                    NaN   \n",
       "cast                                                        NaN   \n",
       "country                                           United States   \n",
       "date_added                                     October 20, 2021   \n",
       "release_year                                               2003   \n",
       "rating                                                    TV-14   \n",
       "duration                                              3 Seasons   \n",
       "listed_in                                      Reality, Romance   \n",
       "description   ABC's romance reality show lets one lucky lady...   \n",
       "countries                                      (United States,)   \n",
       "categories                                   (Reality, Romance)   \n",
       "clean_cat                                 [Reality TV, Romance]   \n",
       "\n",
       "                                                             17  \\\n",
       "show_id                                                     s18   \n",
       "type                                                    TV Show   \n",
       "title                                 America's Book of Secrets   \n",
       "director                                                    NaN   \n",
       "cast                                                        NaN   \n",
       "country                                           United States   \n",
       "date_added                                     October 15, 2021   \n",
       "release_year                                               2012   \n",
       "rating                                                    TV-14   \n",
       "duration                                               1 Season   \n",
       "listed_in                                Documentaries, History   \n",
       "description   America's story can be told in many ways. Whil...   \n",
       "countries                                      (United States,)   \n",
       "categories                             (Documentaries, History)   \n",
       "clean_cat                              [Documentaries, History]   \n",
       "\n",
       "                                                             19  \\\n",
       "show_id                                                     s20   \n",
       "type                                                    TV Show   \n",
       "title                                    Beyond Scared Straight   \n",
       "director                                                    NaN   \n",
       "cast                                                        NaN   \n",
       "country                                           United States   \n",
       "date_added                                     October 15, 2021   \n",
       "release_year                                               2011   \n",
       "rating                                                    TV-14   \n",
       "duration                                              6 Seasons   \n",
       "listed_in                          Documentaries, Reality, Teen   \n",
       "description   Beyond Scared Straight profiles the new approa...   \n",
       "countries                                      (United States,)   \n",
       "categories                       (Documentaries, Reality, Teen)   \n",
       "clean_cat                     [Documentaries, Reality TV, Teen]   \n",
       "\n",
       "                                                             21  \\\n",
       "show_id                                                     s22   \n",
       "type                                                    TV Show   \n",
       "title                                                  Hoarders   \n",
       "director                                                    NaN   \n",
       "cast                                                        NaN   \n",
       "country                                           United States   \n",
       "date_added                                     October 15, 2021   \n",
       "release_year                                               2009   \n",
       "rating                                                    TV-PG   \n",
       "duration                                              7 Seasons   \n",
       "listed_in       Health & Wellness, Lifestyle & Culture, Reality   \n",
       "description   Each 60-minute episode of Hoarders is a fascin...   \n",
       "countries                                      (United States,)   \n",
       "categories    (Health & Wellness, Lifestyle & Culture, Reality)   \n",
       "clean_cat     [Health & Wellness, Lifestyle & Culture, Reali...   \n",
       "\n",
       "                                                             22  \n",
       "show_id                                                     s23  \n",
       "type                                                    TV Show  \n",
       "title                                     Little Women: Atlanta  \n",
       "director                                                    NaN  \n",
       "cast                                                        NaN  \n",
       "country                                           United States  \n",
       "date_added                                     October 15, 2021  \n",
       "release_year                                               2016  \n",
       "rating                                                    TV-14  \n",
       "duration                                              2 Seasons  \n",
       "listed_in                                Black Stories, Reality  \n",
       "description   In Little Women: Atlanta, the little ladies tu...  \n",
       "countries                                      (United States,)  \n",
       "categories                             (Black Stories, Reality)  \n",
       "clean_cat                           [Black Stories, Reality TV]  "
      ]
     },
     "execution_count": 8,
     "metadata": {},
     "output_type": "execute_result"
    }
   ],
   "source": [
    "df_hulu['countries'] = df_hulu['country'].str.split(',').apply(lambda l: tuple(sorted(s.strip() for s in l)))\n",
    "df_hulu['categories'] = df_hulu['listed_in'].str.split(',').apply(lambda l: tuple(sorted(s.strip() for s in l)))\n",
    "mapping = {\n",
    "    'Action': 'Action & Adventure', 'Adventure': 'Action & Adventure', 'Classics': 'Classic & Cult',\n",
    "    'Comedy': 'Comedies', 'Drama': 'Dramas', 'Family': 'Children & Family', 'Kids': 'Children & Family', 'LGBTQ+': 'LGBTQ',\n",
    "    'Latino': 'International', 'Music': 'Music & Musicals', 'Reality': 'Reality TV',\n",
    "    'Science Fiction': 'Sci-Fi & Fantasy', 'Sketch Comedy': 'Stand-Up Comedy & Talk Shows', 'Stand Up': 'Stand-Up Comedy & Talk Shows'\n",
    "}\n",
    "df_hulu['clean_cat'] = df_hulu['categories'].apply(\n",
    "    lambda x: [mapping.get(genre, genre) for genre in x if genre not in ['TV Shows', 'Movies']])\n",
    "df_hulu.head().T"
   ]
  },
  {
   "cell_type": "code",
   "execution_count": 9,
   "metadata": {},
   "outputs": [
    {
     "data": {
      "text/html": [
       "<div>\n",
       "<style scoped>\n",
       "    .dataframe tbody tr th:only-of-type {\n",
       "        vertical-align: middle;\n",
       "    }\n",
       "\n",
       "    .dataframe tbody tr th {\n",
       "        vertical-align: top;\n",
       "    }\n",
       "\n",
       "    .dataframe thead th {\n",
       "        text-align: right;\n",
       "    }\n",
       "</style>\n",
       "<table border=\"1\" class=\"dataframe\">\n",
       "  <thead>\n",
       "    <tr style=\"text-align: right;\">\n",
       "      <th></th>\n",
       "      <th>show_id</th>\n",
       "      <th>type</th>\n",
       "      <th>title</th>\n",
       "      <th>director</th>\n",
       "      <th>cast</th>\n",
       "      <th>country</th>\n",
       "      <th>date_added</th>\n",
       "      <th>release_year</th>\n",
       "      <th>rating</th>\n",
       "      <th>duration</th>\n",
       "      <th>listed_in</th>\n",
       "      <th>description</th>\n",
       "      <th>countries</th>\n",
       "      <th>categories</th>\n",
       "      <th>clean_cat</th>\n",
       "      <th>origin</th>\n",
       "    </tr>\n",
       "  </thead>\n",
       "  <tbody>\n",
       "    <tr>\n",
       "      <th>9555</th>\n",
       "      <td>s3041</td>\n",
       "      <td>TV Show</td>\n",
       "      <td>Heroic Age</td>\n",
       "      <td>NaN</td>\n",
       "      <td>NaN</td>\n",
       "      <td>Japan</td>\n",
       "      <td>August 14, 2009</td>\n",
       "      <td>2007</td>\n",
       "      <td>TV-PG</td>\n",
       "      <td>1 Season</td>\n",
       "      <td>Action, Adventure, Anime</td>\n",
       "      <td>Long ago, the advanced Tribe of Gold vanished ...</td>\n",
       "      <td>(Japan,)</td>\n",
       "      <td>(Action, Adventure, Anime)</td>\n",
       "      <td>[Action &amp; Adventure, Action &amp; Adventure, Anime]</td>\n",
       "      <td>Hulu</td>\n",
       "    </tr>\n",
       "    <tr>\n",
       "      <th>9556</th>\n",
       "      <td>s3042</td>\n",
       "      <td>TV Show</td>\n",
       "      <td>Black Blood Brothers</td>\n",
       "      <td>NaN</td>\n",
       "      <td>NaN</td>\n",
       "      <td>Japan</td>\n",
       "      <td>February 10, 2009</td>\n",
       "      <td>2006</td>\n",
       "      <td>TV-MA</td>\n",
       "      <td>1 Season</td>\n",
       "      <td>Action, Adventure, Anime</td>\n",
       "      <td>It’s been a decade since the sacred war betwee...</td>\n",
       "      <td>(Japan,)</td>\n",
       "      <td>(Action, Adventure, Anime)</td>\n",
       "      <td>[Action &amp; Adventure, Action &amp; Adventure, Anime]</td>\n",
       "      <td>Hulu</td>\n",
       "    </tr>\n",
       "    <tr>\n",
       "      <th>9557</th>\n",
       "      <td>s3043</td>\n",
       "      <td>TV Show</td>\n",
       "      <td>Doogie Howser, M.D.</td>\n",
       "      <td>NaN</td>\n",
       "      <td>NaN</td>\n",
       "      <td>United States</td>\n",
       "      <td>July 1, 2008</td>\n",
       "      <td>1989</td>\n",
       "      <td>TV-PG</td>\n",
       "      <td>4 Seasons</td>\n",
       "      <td>Comedy, Drama, Family</td>\n",
       "      <td>Douglas Howser is a doctor. He is also a 16-ye...</td>\n",
       "      <td>(United States,)</td>\n",
       "      <td>(Comedy, Drama, Family)</td>\n",
       "      <td>[Comedies, Dramas, Children &amp; Family]</td>\n",
       "      <td>Hulu</td>\n",
       "    </tr>\n",
       "    <tr>\n",
       "      <th>9558</th>\n",
       "      <td>s3044</td>\n",
       "      <td>TV Show</td>\n",
       "      <td>Lost in Space</td>\n",
       "      <td>NaN</td>\n",
       "      <td>NaN</td>\n",
       "      <td>United States</td>\n",
       "      <td>June 1, 2008</td>\n",
       "      <td>1965</td>\n",
       "      <td>TV-G</td>\n",
       "      <td>3 Seasons</td>\n",
       "      <td>Action, Adventure, Classics</td>\n",
       "      <td>Created by legendary producer Irwin Allen (\"Th...</td>\n",
       "      <td>(United States,)</td>\n",
       "      <td>(Action, Adventure, Classics)</td>\n",
       "      <td>[Action &amp; Adventure, Action &amp; Adventure, Class...</td>\n",
       "      <td>Hulu</td>\n",
       "    </tr>\n",
       "    <tr>\n",
       "      <th>9559</th>\n",
       "      <td>s3045</td>\n",
       "      <td>TV Show</td>\n",
       "      <td>Hikaru no Go</td>\n",
       "      <td>NaN</td>\n",
       "      <td>NaN</td>\n",
       "      <td>Japan</td>\n",
       "      <td>July 14, 2006</td>\n",
       "      <td>2006</td>\n",
       "      <td>TV-14</td>\n",
       "      <td>1 Season</td>\n",
       "      <td>Anime, International, Science Fiction</td>\n",
       "      <td>Hikaru Shindo is like any sixth-grader in Japa...</td>\n",
       "      <td>(Japan,)</td>\n",
       "      <td>(Anime, International, Science Fiction)</td>\n",
       "      <td>[Anime, International, Sci-Fi &amp; Fantasy]</td>\n",
       "      <td>Hulu</td>\n",
       "    </tr>\n",
       "  </tbody>\n",
       "</table>\n",
       "</div>"
      ],
      "text/plain": [
       "     show_id     type                 title director cast        country  \\\n",
       "9555   s3041  TV Show            Heroic Age      NaN  NaN          Japan   \n",
       "9556   s3042  TV Show  Black Blood Brothers      NaN  NaN          Japan   \n",
       "9557   s3043  TV Show   Doogie Howser, M.D.      NaN  NaN  United States   \n",
       "9558   s3044  TV Show         Lost in Space      NaN  NaN  United States   \n",
       "9559   s3045  TV Show          Hikaru no Go      NaN  NaN          Japan   \n",
       "\n",
       "             date_added  release_year rating   duration  \\\n",
       "9555    August 14, 2009          2007  TV-PG   1 Season   \n",
       "9556  February 10, 2009          2006  TV-MA   1 Season   \n",
       "9557       July 1, 2008          1989  TV-PG  4 Seasons   \n",
       "9558       June 1, 2008          1965   TV-G  3 Seasons   \n",
       "9559      July 14, 2006          2006  TV-14   1 Season   \n",
       "\n",
       "                                  listed_in  \\\n",
       "9555               Action, Adventure, Anime   \n",
       "9556               Action, Adventure, Anime   \n",
       "9557                  Comedy, Drama, Family   \n",
       "9558            Action, Adventure, Classics   \n",
       "9559  Anime, International, Science Fiction   \n",
       "\n",
       "                                            description         countries  \\\n",
       "9555  Long ago, the advanced Tribe of Gold vanished ...          (Japan,)   \n",
       "9556  It’s been a decade since the sacred war betwee...          (Japan,)   \n",
       "9557  Douglas Howser is a doctor. He is also a 16-ye...  (United States,)   \n",
       "9558  Created by legendary producer Irwin Allen (\"Th...  (United States,)   \n",
       "9559  Hikaru Shindo is like any sixth-grader in Japa...          (Japan,)   \n",
       "\n",
       "                                   categories  \\\n",
       "9555               (Action, Adventure, Anime)   \n",
       "9556               (Action, Adventure, Anime)   \n",
       "9557                  (Comedy, Drama, Family)   \n",
       "9558            (Action, Adventure, Classics)   \n",
       "9559  (Anime, International, Science Fiction)   \n",
       "\n",
       "                                              clean_cat origin  \n",
       "9555    [Action & Adventure, Action & Adventure, Anime]   Hulu  \n",
       "9556    [Action & Adventure, Action & Adventure, Anime]   Hulu  \n",
       "9557              [Comedies, Dramas, Children & Family]   Hulu  \n",
       "9558  [Action & Adventure, Action & Adventure, Class...   Hulu  \n",
       "9559           [Anime, International, Sci-Fi & Fantasy]   Hulu  "
      ]
     },
     "execution_count": 9,
     "metadata": {},
     "output_type": "execute_result"
    }
   ],
   "source": [
    "df_netflix['origin'] = 'Netflix'\n",
    "df_hulu['origin'] = 'Hulu'\n",
    "all_streaming = pd.concat([df_netflix, df_hulu], ignore_index=True)\n",
    "all_streaming.head()\n",
    "all_streaming.tail()"
   ]
  },
  {
   "cell_type": "code",
   "execution_count": 20,
   "metadata": {},
   "outputs": [
    {
     "data": {
      "application/vnd.plotly.v1+json": {
       "config": {
        "plotlyServerURL": "https://plot.ly"
       },
       "data": [
        {
         "link": {
          "color": [
           "rgba(229, 9, 20, 0.7)",
           "rgba(28, 231, 131, 0.7)",
           "rgba(229, 9, 20, 0.7)",
           "rgba(28, 231, 131, 0.7)",
           "rgba(229, 9, 20, 0.7)",
           "rgba(28, 231, 131, 0.7)",
           "rgba(28, 231, 131, 0.7)",
           "rgba(229, 9, 20, 0.7)",
           "rgba(229, 9, 20, 0.7)",
           "rgba(28, 231, 131, 0.7)",
           "rgba(229, 9, 20, 0.7)",
           "rgba(28, 231, 131, 0.7)",
           "rgba(229, 9, 20, 0.7)",
           "rgba(28, 231, 131, 0.7)",
           "rgba(229, 9, 20, 0.7)",
           "rgba(28, 231, 131, 0.7)",
           "rgba(229, 9, 20, 0.7)",
           "rgba(28, 231, 131, 0.7)",
           "rgba(229, 9, 20, 0.7)",
           "rgba(28, 231, 131, 0.7)",
           "rgba(229, 9, 20, 0.7)",
           "rgba(28, 231, 131, 0.7)",
           "rgba(229, 9, 20, 0.7)",
           "rgba(28, 231, 131, 0.7)",
           "rgba(229, 9, 20, 0.7)",
           "rgba(28, 231, 131, 0.7)",
           "rgba(229, 9, 20, 0.7)",
           "rgba(229, 9, 20, 0.7)",
           "rgba(229, 9, 20, 0.7)",
           "rgba(229, 9, 20, 0.7)",
           "rgba(229, 9, 20, 0.7)",
           "rgba(229, 9, 20, 0.7)",
           "rgba(229, 9, 20, 0.7)",
           "rgba(229, 9, 20, 0.7)",
           "rgba(229, 9, 20, 0.7)",
           "rgba(229, 9, 20, 0.7)",
           "rgba(229, 9, 20, 0.7)",
           "rgba(229, 9, 20, 0.7)",
           "rgba(28, 231, 131, 0.7)",
           "rgba(28, 231, 131, 0.7)",
           "rgba(28, 231, 131, 0.7)",
           "rgba(28, 231, 131, 0.7)",
           "rgba(28, 231, 131, 0.7)",
           "rgba(28, 231, 131, 0.7)",
           "rgba(28, 231, 131, 0.7)",
           "rgba(28, 231, 131, 0.7)",
           "rgba(28, 231, 131, 0.7)",
           "rgba(28, 231, 131, 0.7)",
           "rgba(28, 231, 131, 0.7)"
          ],
          "hovertemplate": "%{label}<extra></extra>",
          "label": [
           "Netflix has 5,484 medias<br>from United States<br>Percentage: 34.23%",
           "Hulu has 1,667 medias<br>from United States<br>Percentage: 39.69%",
           "Netflix has 2,633 medias<br>from India<br>Percentage: 16.44%",
           "Hulu has 3 medias<br>from India<br>Percentage: 0.07%",
           "Netflix has 1,552 medias<br>from United Kingdom<br>Percentage: 9.69%",
           "Hulu has 392 medias<br>from United Kingdom<br>Percentage: 9.33%",
           "Hulu has 742 medias<br>from Japan<br>Percentage: 17.67%",
           "Netflix has 679 medias<br>from Japan<br>Percentage: 4.24%",
           "Netflix has 861 medias<br>from France<br>Percentage: 5.37%",
           "Hulu has 81 medias<br>from France<br>Percentage: 1.93%",
           "Netflix has 763 medias<br>from Canada<br>Percentage: 4.76%",
           "Hulu has 170 medias<br>from Canada<br>Percentage: 4.05%",
           "Netflix has 610 medias<br>from South Korea<br>Percentage: 3.81%",
           "Hulu has 34 medias<br>from South Korea<br>Percentage: 0.81%",
           "Netflix has 552 medias<br>from Spain<br>Percentage: 3.45%",
           "Hulu has 22 medias<br>from Spain<br>Percentage: 0.52%",
           "Netflix has 462 medias<br>from Germany<br>Percentage: 2.88%",
           "Hulu has 85 medias<br>from Germany<br>Percentage: 2.02%",
           "Netflix has 368 medias<br>from Mexico<br>Percentage: 2.3%",
           "Hulu has 19 medias<br>from Mexico<br>Percentage: 0.45%",
           "Netflix has 274 medias<br>from Australia<br>Percentage: 1.71%",
           "Hulu has 76 medias<br>from Australia<br>Percentage: 1.81%",
           "Netflix has 103 medias<br>from Denmark<br>Percentage: 0.64%",
           "Hulu has 36 medias<br>from Denmark<br>Percentage: 0.86%",
           "Netflix has 92 medias<br>from Sweden<br>Percentage: 0.57%",
           "Hulu has 40 medias<br>from Sweden<br>Percentage: 0.95%",
           "Netflix has 3,306 medias<br>under International<br>Percentage: 17.57%",
           "Netflix has 2,750 medias<br>under Dramas<br>Percentage: 14.62%",
           "Netflix has 1,840 medias<br>under Comedies<br>Percentage: 9.78%",
           "Netflix has 1,199 medias<br>under Documentaries<br>Percentage: 6.37%",
           "Netflix has 1,106 medias<br>under Children & Family<br>Percentage: 5.88%",
           "Netflix has 1,005 medias<br>under Action & Adventure<br>Percentage: 5.34%",
           "Netflix has 854 medias<br>under Independent<br>Percentage: 4.54%",
           "Netflix has 695 medias<br>under Thriller<br>Percentage: 3.69%",
           "Netflix has 667 medias<br>under Romance<br>Percentage: 3.55%",
           "Netflix has 413 medias<br>under Horror<br>Percentage: 2.2%",
           "Netflix has 366 medias<br>under Crime<br>Percentage: 1.95%",
           "Netflix has 232 medias<br>under Anime<br>Percentage: 1.23%",
           "Hulu has 802 medias<br>under Action & Adventure<br>Percentage: 22.67%",
           "Hulu has 583 medias<br>under Dramas<br>Percentage: 16.48%",
           "Hulu has 448 medias<br>under Comedies<br>Percentage: 12.66%",
           "Hulu has 274 medias<br>under Anime<br>Percentage: 7.74%",
           "Hulu has 263 medias<br>under Documentaries<br>Percentage: 7.43%",
           "Hulu has 231 medias<br>under Children & Family<br>Percentage: 6.53%",
           "Hulu has 203 medias<br>under Horror<br>Percentage: 5.74%",
           "Hulu has 193 medias<br>under International<br>Percentage: 5.46%",
           "Hulu has 146 medias<br>under Crime<br>Percentage: 4.13%",
           "Hulu has 130 medias<br>under Thriller<br>Percentage: 3.67%",
           "Hulu has 94 medias<br>under Romance<br>Percentage: 2.66%"
          ],
          "source": [
           14,
           14,
           15,
           15,
           16,
           16,
           17,
           17,
           18,
           18,
           19,
           19,
           20,
           20,
           21,
           21,
           22,
           22,
           23,
           23,
           24,
           24,
           25,
           25,
           26,
           26,
           12,
           12,
           12,
           12,
           12,
           12,
           12,
           12,
           12,
           12,
           12,
           12,
           13,
           13,
           13,
           13,
           13,
           13,
           13,
           13,
           13,
           13,
           13
          ],
          "target": [
           12,
           13,
           12,
           13,
           12,
           13,
           13,
           12,
           12,
           13,
           12,
           13,
           12,
           13,
           12,
           13,
           12,
           13,
           12,
           13,
           12,
           13,
           12,
           13,
           12,
           13,
           0,
           1,
           2,
           4,
           5,
           3,
           6,
           7,
           8,
           9,
           10,
           11,
           3,
           1,
           2,
           11,
           4,
           5,
           9,
           0,
           10,
           7,
           8
          ],
          "value": [
           5484,
           1667,
           2633,
           3,
           1552,
           392,
           742,
           679,
           861,
           81,
           763,
           170,
           610,
           34,
           552,
           22,
           462,
           85,
           368,
           19,
           274,
           76,
           103,
           36,
           92,
           40,
           3306,
           2750,
           1840,
           1199,
           1106,
           1005,
           854,
           695,
           667,
           413,
           366,
           232,
           802,
           583,
           448,
           274,
           263,
           231,
           203,
           193,
           146,
           130,
           94
          ]
         },
         "node": {
          "color": [
           "rgb(0, 191, 255)",
           "rgb(255, 99, 71)",
           "rgb(255, 140, 0)",
           "rgb(102, 205, 170)",
           "rgb(244, 164, 96)",
           "rgb(0, 139, 139)",
           "rgb(138, 43, 226)",
           "rgb(255, 182, 193)",
           "rgb(186, 85, 211)",
           "rgb(176, 224, 230)",
           "rgb(255, 228, 196)",
           "rgb(192, 192, 192)",
           "rgb(229, 9, 20)",
           "rgb(28, 231, 131)",
           "rgb(0, 0, 139)",
           "rgb(25, 25, 112)",
           "rgb(128, 0, 128)",
           "rgb(128, 128, 0)",
           "rgb(75, 0, 130)",
           "rgb(70, 130, 180)",
           "rgb(47, 79, 79)",
           "rgb(255, 69, 0)",
           "rgb(255, 215, 0)",
           "rgb(139, 69, 19)",
           "rgb(105, 105, 105)",
           "rgb(0, 128, 128)",
           "rgb(112, 128, 144)"
          ],
          "hovertemplate": "Sample Size: %{value:,.0f}<extra></extra>",
          "label": [
           "International",
           "Dramas",
           "Comedies",
           "Action & Adventure",
           "Documentaries",
           "Children & Family",
           "Independent",
           "Thriller",
           "Romance",
           "Horror",
           "Crime",
           "Anime",
           "Netflix",
           "Hulu",
           "United States",
           "India",
           "United Kingdom",
           "Japan",
           "France",
           "Canada",
           "South Korea",
           "Spain",
           "Germany",
           "Mexico",
           "Australia",
           "Denmark",
           "Sweden"
          ],
          "line": {
           "color": "white",
           "width": 0.5
          },
          "pad": 15,
          "thickness": 30
         },
         "textfont": {
          "color": "rgba(0,0,0,0)",
          "size": 1
         },
         "type": "sankey"
        }
       ],
       "layout": {
        "annotations": [
         {
          "font": {
           "color": "rgb(229, 9, 20)",
           "size": 40
          },
          "showarrow": false,
          "text": "<b>Netflix</b>",
          "x": 0.5,
          "y": 0.965
         },
         {
          "font": {
           "color": "rgb(28, 231, 131)",
           "size": 40
          },
          "showarrow": false,
          "text": "<b>Hulu</b>",
          "x": 0.5,
          "y": 0.035
         },
         {
          "font": {
           "color": "rgb(0, 0, 139)",
           "size": 14
          },
          "showarrow": false,
          "text": "<b>United States</b>",
          "x": -0.135,
          "y": 0.88
         },
         {
          "font": {
           "color": "rgb(25, 25, 112)",
           "size": 14
          },
          "showarrow": false,
          "text": "<b>India</b>",
          "x": -0.06,
          "y": 0.635
         },
         {
          "font": {
           "color": "rgb(128, 0, 128)",
           "size": 14
          },
          "showarrow": false,
          "text": "<b>United Kingdom</b>",
          "x": -0.157,
          "y": 0.52
         },
         {
          "font": {
           "color": "rgb(75, 0, 130)",
           "size": 14
          },
          "showarrow": false,
          "text": "<b>France</b>",
          "x": -0.07,
          "y": 0.44
         },
         {
          "font": {
           "color": "rgb(255, 69, 0)",
           "size": 14
          },
          "showarrow": false,
          "text": "<b>Spain</b>",
          "x": -0.06,
          "y": 0.385
         },
         {
          "font": {
           "color": "rgb(47, 79, 79)",
           "size": 14
          },
          "showarrow": false,
          "text": "<b>South Korea</b>",
          "x": -0.12,
          "y": 0.335
         },
         {
          "font": {
           "color": "rgb(139, 69, 19)",
           "size": 14
          },
          "showarrow": false,
          "text": "<b>Mexico</b>",
          "x": -0.07,
          "y": 0.275
         },
         {
          "font": {
           "color": "rgb(70, 130, 180)",
           "size": 14
          },
          "showarrow": false,
          "text": "<b>Canada</b>",
          "x": -0.075,
          "y": 0.222
         },
         {
          "font": {
           "color": "rgb(255, 215, 0)",
           "size": 14
          },
          "showarrow": false,
          "text": "<b>Germany</b>",
          "x": -0.09,
          "y": 0.17
         },
         {
          "font": {
           "color": "rgb(105, 105, 105)",
           "size": 14
          },
          "showarrow": false,
          "text": "<b>Australia</b>",
          "x": -0.095,
          "y": 0.128
         },
         {
          "font": {
           "color": "rgb(0, 128, 128)",
           "size": 14
          },
          "showarrow": false,
          "text": "<b>Denmark</b>",
          "x": -0.097,
          "y": 0.095
         },
         {
          "font": {
           "color": "rgb(112, 128, 144)",
           "size": 14
          },
          "showarrow": false,
          "text": "<b>Sweden</b>",
          "x": -0.085,
          "y": 0.065
         },
         {
          "font": {
           "color": "rgb(128, 128, 0)",
           "size": 14
          },
          "showarrow": false,
          "text": "<b>Japan</b>",
          "x": -0.063,
          "y": 0.015
         },
         {
          "font": {
           "color": "rgb(0, 191, 255)",
           "size": 14
          },
          "showarrow": false,
          "text": "<b>International</b>",
          "x": 1.13,
          "y": 0.92
         },
         {
          "font": {
           "color": "rgb(255, 99, 71)",
           "size": 14
          },
          "showarrow": false,
          "text": "<b>Dramas</b>",
          "x": 1.08,
          "y": 0.765
         },
         {
          "font": {
           "color": "rgb(255, 140, 0)",
           "size": 14
          },
          "showarrow": false,
          "text": "<b>Comedies</b>",
          "x": 1.1,
          "y": 0.608
         },
         {
          "font": {
           "color": "rgb(244, 164, 96)",
           "size": 14
          },
          "showarrow": false,
          "text": "<b>Documentaries</b>",
          "x": 1.15,
          "y": 0.51
         },
         {
          "font": {
           "color": "rgb(0, 139, 139)",
           "size": 14
          },
          "showarrow": false,
          "text": "<b>Children & Family</b>",
          "x": 1.175,
          "y": 0.43
         },
         {
          "font": {
           "color": "rgb(138, 43, 226)",
           "size": 14
          },
          "showarrow": false,
          "text": "<b>Independent</b>",
          "x": 1.13,
          "y": 0.365
         },
         {
          "font": {
           "color": "rgb(102, 205, 170)",
           "size": 14
          },
          "showarrow": false,
          "text": "<b>Action & Adventure</b>",
          "x": 1.19,
          "y": 0.27
         },
         {
          "font": {
           "color": "rgb(255, 182, 193)",
           "size": 14
          },
          "showarrow": false,
          "text": "<b>Thriller</b>",
          "x": 1.075,
          "y": 0.194
         },
         {
          "font": {
           "color": "rgb(186, 85, 211)",
           "size": 14
          },
          "showarrow": false,
          "text": "<b>Romance</b>",
          "x": 1.093,
          "y": 0.136
         },
         {
          "font": {
           "color": "rgb(176, 224, 230)",
           "size": 14
          },
          "showarrow": false,
          "text": "<b>Horror</b>",
          "x": 1.07,
          "y": 0.085
         },
         {
          "font": {
           "color": "rgb(255, 228, 196)",
           "size": 14
          },
          "showarrow": false,
          "text": "<b>Crime</b>",
          "x": 1.065,
          "y": 0.037
         },
         {
          "font": {
           "color": "rgb(192, 192, 192)",
           "size": 14
          },
          "showarrow": false,
          "text": "<b>Anime</b>",
          "x": 1.067,
          "y": -0.005
         }
        ],
        "font": {
         "size": 20
        },
        "height": 800,
        "margin": {
         "b": 40,
         "l": 180,
         "r": 180,
         "t": 120
        },
        "template": {
         "data": {
          "bar": [
           {
            "error_x": {
             "color": "#2a3f5f"
            },
            "error_y": {
             "color": "#2a3f5f"
            },
            "marker": {
             "line": {
              "color": "#E5ECF6",
              "width": 0.5
             },
             "pattern": {
              "fillmode": "overlay",
              "size": 10,
              "solidity": 0.2
             }
            },
            "type": "bar"
           }
          ],
          "barpolar": [
           {
            "marker": {
             "line": {
              "color": "#E5ECF6",
              "width": 0.5
             },
             "pattern": {
              "fillmode": "overlay",
              "size": 10,
              "solidity": 0.2
             }
            },
            "type": "barpolar"
           }
          ],
          "carpet": [
           {
            "aaxis": {
             "endlinecolor": "#2a3f5f",
             "gridcolor": "white",
             "linecolor": "white",
             "minorgridcolor": "white",
             "startlinecolor": "#2a3f5f"
            },
            "baxis": {
             "endlinecolor": "#2a3f5f",
             "gridcolor": "white",
             "linecolor": "white",
             "minorgridcolor": "white",
             "startlinecolor": "#2a3f5f"
            },
            "type": "carpet"
           }
          ],
          "choropleth": [
           {
            "colorbar": {
             "outlinewidth": 0,
             "ticks": ""
            },
            "type": "choropleth"
           }
          ],
          "contour": [
           {
            "colorbar": {
             "outlinewidth": 0,
             "ticks": ""
            },
            "colorscale": [
             [
              0,
              "#0d0887"
             ],
             [
              0.1111111111111111,
              "#46039f"
             ],
             [
              0.2222222222222222,
              "#7201a8"
             ],
             [
              0.3333333333333333,
              "#9c179e"
             ],
             [
              0.4444444444444444,
              "#bd3786"
             ],
             [
              0.5555555555555556,
              "#d8576b"
             ],
             [
              0.6666666666666666,
              "#ed7953"
             ],
             [
              0.7777777777777778,
              "#fb9f3a"
             ],
             [
              0.8888888888888888,
              "#fdca26"
             ],
             [
              1,
              "#f0f921"
             ]
            ],
            "type": "contour"
           }
          ],
          "contourcarpet": [
           {
            "colorbar": {
             "outlinewidth": 0,
             "ticks": ""
            },
            "type": "contourcarpet"
           }
          ],
          "heatmap": [
           {
            "colorbar": {
             "outlinewidth": 0,
             "ticks": ""
            },
            "colorscale": [
             [
              0,
              "#0d0887"
             ],
             [
              0.1111111111111111,
              "#46039f"
             ],
             [
              0.2222222222222222,
              "#7201a8"
             ],
             [
              0.3333333333333333,
              "#9c179e"
             ],
             [
              0.4444444444444444,
              "#bd3786"
             ],
             [
              0.5555555555555556,
              "#d8576b"
             ],
             [
              0.6666666666666666,
              "#ed7953"
             ],
             [
              0.7777777777777778,
              "#fb9f3a"
             ],
             [
              0.8888888888888888,
              "#fdca26"
             ],
             [
              1,
              "#f0f921"
             ]
            ],
            "type": "heatmap"
           }
          ],
          "heatmapgl": [
           {
            "colorbar": {
             "outlinewidth": 0,
             "ticks": ""
            },
            "colorscale": [
             [
              0,
              "#0d0887"
             ],
             [
              0.1111111111111111,
              "#46039f"
             ],
             [
              0.2222222222222222,
              "#7201a8"
             ],
             [
              0.3333333333333333,
              "#9c179e"
             ],
             [
              0.4444444444444444,
              "#bd3786"
             ],
             [
              0.5555555555555556,
              "#d8576b"
             ],
             [
              0.6666666666666666,
              "#ed7953"
             ],
             [
              0.7777777777777778,
              "#fb9f3a"
             ],
             [
              0.8888888888888888,
              "#fdca26"
             ],
             [
              1,
              "#f0f921"
             ]
            ],
            "type": "heatmapgl"
           }
          ],
          "histogram": [
           {
            "marker": {
             "pattern": {
              "fillmode": "overlay",
              "size": 10,
              "solidity": 0.2
             }
            },
            "type": "histogram"
           }
          ],
          "histogram2d": [
           {
            "colorbar": {
             "outlinewidth": 0,
             "ticks": ""
            },
            "colorscale": [
             [
              0,
              "#0d0887"
             ],
             [
              0.1111111111111111,
              "#46039f"
             ],
             [
              0.2222222222222222,
              "#7201a8"
             ],
             [
              0.3333333333333333,
              "#9c179e"
             ],
             [
              0.4444444444444444,
              "#bd3786"
             ],
             [
              0.5555555555555556,
              "#d8576b"
             ],
             [
              0.6666666666666666,
              "#ed7953"
             ],
             [
              0.7777777777777778,
              "#fb9f3a"
             ],
             [
              0.8888888888888888,
              "#fdca26"
             ],
             [
              1,
              "#f0f921"
             ]
            ],
            "type": "histogram2d"
           }
          ],
          "histogram2dcontour": [
           {
            "colorbar": {
             "outlinewidth": 0,
             "ticks": ""
            },
            "colorscale": [
             [
              0,
              "#0d0887"
             ],
             [
              0.1111111111111111,
              "#46039f"
             ],
             [
              0.2222222222222222,
              "#7201a8"
             ],
             [
              0.3333333333333333,
              "#9c179e"
             ],
             [
              0.4444444444444444,
              "#bd3786"
             ],
             [
              0.5555555555555556,
              "#d8576b"
             ],
             [
              0.6666666666666666,
              "#ed7953"
             ],
             [
              0.7777777777777778,
              "#fb9f3a"
             ],
             [
              0.8888888888888888,
              "#fdca26"
             ],
             [
              1,
              "#f0f921"
             ]
            ],
            "type": "histogram2dcontour"
           }
          ],
          "mesh3d": [
           {
            "colorbar": {
             "outlinewidth": 0,
             "ticks": ""
            },
            "type": "mesh3d"
           }
          ],
          "parcoords": [
           {
            "line": {
             "colorbar": {
              "outlinewidth": 0,
              "ticks": ""
             }
            },
            "type": "parcoords"
           }
          ],
          "pie": [
           {
            "automargin": true,
            "type": "pie"
           }
          ],
          "scatter": [
           {
            "fillpattern": {
             "fillmode": "overlay",
             "size": 10,
             "solidity": 0.2
            },
            "type": "scatter"
           }
          ],
          "scatter3d": [
           {
            "line": {
             "colorbar": {
              "outlinewidth": 0,
              "ticks": ""
             }
            },
            "marker": {
             "colorbar": {
              "outlinewidth": 0,
              "ticks": ""
             }
            },
            "type": "scatter3d"
           }
          ],
          "scattercarpet": [
           {
            "marker": {
             "colorbar": {
              "outlinewidth": 0,
              "ticks": ""
             }
            },
            "type": "scattercarpet"
           }
          ],
          "scattergeo": [
           {
            "marker": {
             "colorbar": {
              "outlinewidth": 0,
              "ticks": ""
             }
            },
            "type": "scattergeo"
           }
          ],
          "scattergl": [
           {
            "marker": {
             "colorbar": {
              "outlinewidth": 0,
              "ticks": ""
             }
            },
            "type": "scattergl"
           }
          ],
          "scattermapbox": [
           {
            "marker": {
             "colorbar": {
              "outlinewidth": 0,
              "ticks": ""
             }
            },
            "type": "scattermapbox"
           }
          ],
          "scatterpolar": [
           {
            "marker": {
             "colorbar": {
              "outlinewidth": 0,
              "ticks": ""
             }
            },
            "type": "scatterpolar"
           }
          ],
          "scatterpolargl": [
           {
            "marker": {
             "colorbar": {
              "outlinewidth": 0,
              "ticks": ""
             }
            },
            "type": "scatterpolargl"
           }
          ],
          "scatterternary": [
           {
            "marker": {
             "colorbar": {
              "outlinewidth": 0,
              "ticks": ""
             }
            },
            "type": "scatterternary"
           }
          ],
          "surface": [
           {
            "colorbar": {
             "outlinewidth": 0,
             "ticks": ""
            },
            "colorscale": [
             [
              0,
              "#0d0887"
             ],
             [
              0.1111111111111111,
              "#46039f"
             ],
             [
              0.2222222222222222,
              "#7201a8"
             ],
             [
              0.3333333333333333,
              "#9c179e"
             ],
             [
              0.4444444444444444,
              "#bd3786"
             ],
             [
              0.5555555555555556,
              "#d8576b"
             ],
             [
              0.6666666666666666,
              "#ed7953"
             ],
             [
              0.7777777777777778,
              "#fb9f3a"
             ],
             [
              0.8888888888888888,
              "#fdca26"
             ],
             [
              1,
              "#f0f921"
             ]
            ],
            "type": "surface"
           }
          ],
          "table": [
           {
            "cells": {
             "fill": {
              "color": "#EBF0F8"
             },
             "line": {
              "color": "white"
             }
            },
            "header": {
             "fill": {
              "color": "#C8D4E3"
             },
             "line": {
              "color": "white"
             }
            },
            "type": "table"
           }
          ]
         },
         "layout": {
          "annotationdefaults": {
           "arrowcolor": "#2a3f5f",
           "arrowhead": 0,
           "arrowwidth": 1
          },
          "autotypenumbers": "strict",
          "coloraxis": {
           "colorbar": {
            "outlinewidth": 0,
            "ticks": ""
           }
          },
          "colorscale": {
           "diverging": [
            [
             0,
             "#8e0152"
            ],
            [
             0.1,
             "#c51b7d"
            ],
            [
             0.2,
             "#de77ae"
            ],
            [
             0.3,
             "#f1b6da"
            ],
            [
             0.4,
             "#fde0ef"
            ],
            [
             0.5,
             "#f7f7f7"
            ],
            [
             0.6,
             "#e6f5d0"
            ],
            [
             0.7,
             "#b8e186"
            ],
            [
             0.8,
             "#7fbc41"
            ],
            [
             0.9,
             "#4d9221"
            ],
            [
             1,
             "#276419"
            ]
           ],
           "sequential": [
            [
             0,
             "#0d0887"
            ],
            [
             0.1111111111111111,
             "#46039f"
            ],
            [
             0.2222222222222222,
             "#7201a8"
            ],
            [
             0.3333333333333333,
             "#9c179e"
            ],
            [
             0.4444444444444444,
             "#bd3786"
            ],
            [
             0.5555555555555556,
             "#d8576b"
            ],
            [
             0.6666666666666666,
             "#ed7953"
            ],
            [
             0.7777777777777778,
             "#fb9f3a"
            ],
            [
             0.8888888888888888,
             "#fdca26"
            ],
            [
             1,
             "#f0f921"
            ]
           ],
           "sequentialminus": [
            [
             0,
             "#0d0887"
            ],
            [
             0.1111111111111111,
             "#46039f"
            ],
            [
             0.2222222222222222,
             "#7201a8"
            ],
            [
             0.3333333333333333,
             "#9c179e"
            ],
            [
             0.4444444444444444,
             "#bd3786"
            ],
            [
             0.5555555555555556,
             "#d8576b"
            ],
            [
             0.6666666666666666,
             "#ed7953"
            ],
            [
             0.7777777777777778,
             "#fb9f3a"
            ],
            [
             0.8888888888888888,
             "#fdca26"
            ],
            [
             1,
             "#f0f921"
            ]
           ]
          },
          "colorway": [
           "#636efa",
           "#EF553B",
           "#00cc96",
           "#ab63fa",
           "#FFA15A",
           "#19d3f3",
           "#FF6692",
           "#B6E880",
           "#FF97FF",
           "#FECB52"
          ],
          "font": {
           "color": "#2a3f5f"
          },
          "geo": {
           "bgcolor": "white",
           "lakecolor": "white",
           "landcolor": "#E5ECF6",
           "showlakes": true,
           "showland": true,
           "subunitcolor": "white"
          },
          "hoverlabel": {
           "align": "left"
          },
          "hovermode": "closest",
          "mapbox": {
           "style": "light"
          },
          "paper_bgcolor": "white",
          "plot_bgcolor": "#E5ECF6",
          "polar": {
           "angularaxis": {
            "gridcolor": "white",
            "linecolor": "white",
            "ticks": ""
           },
           "bgcolor": "#E5ECF6",
           "radialaxis": {
            "gridcolor": "white",
            "linecolor": "white",
            "ticks": ""
           }
          },
          "scene": {
           "xaxis": {
            "backgroundcolor": "#E5ECF6",
            "gridcolor": "white",
            "gridwidth": 2,
            "linecolor": "white",
            "showbackground": true,
            "ticks": "",
            "zerolinecolor": "white"
           },
           "yaxis": {
            "backgroundcolor": "#E5ECF6",
            "gridcolor": "white",
            "gridwidth": 2,
            "linecolor": "white",
            "showbackground": true,
            "ticks": "",
            "zerolinecolor": "white"
           },
           "zaxis": {
            "backgroundcolor": "#E5ECF6",
            "gridcolor": "white",
            "gridwidth": 2,
            "linecolor": "white",
            "showbackground": true,
            "ticks": "",
            "zerolinecolor": "white"
           }
          },
          "shapedefaults": {
           "line": {
            "color": "#2a3f5f"
           }
          },
          "ternary": {
           "aaxis": {
            "gridcolor": "white",
            "linecolor": "white",
            "ticks": ""
           },
           "baxis": {
            "gridcolor": "white",
            "linecolor": "white",
            "ticks": ""
           },
           "bgcolor": "#E5ECF6",
           "caxis": {
            "gridcolor": "white",
            "linecolor": "white",
            "ticks": ""
           }
          },
          "title": {
           "x": 0.05
          },
          "xaxis": {
           "automargin": true,
           "gridcolor": "white",
           "linecolor": "white",
           "ticks": "",
           "title": {
            "standoff": 15
           },
           "zerolinecolor": "white",
           "zerolinewidth": 2
          },
          "yaxis": {
           "automargin": true,
           "gridcolor": "white",
           "linecolor": "white",
           "ticks": "",
           "title": {
            "standoff": 15
           },
           "zerolinecolor": "white",
           "zerolinewidth": 2
          }
         }
        },
        "title": {
         "text": "<b>Country and Genre Diversity of Netflix and Hulu Catalogues</b>"
        },
        "width": 1200
       }
      }
     },
     "metadata": {},
     "output_type": "display_data"
    }
   ],
   "source": [
    "df_expanded = all_streaming.explode('countries')\n",
    "df_expanded = df_expanded.explode('clean_cat')\n",
    "\n",
    "top_countries_netflix = df_expanded.loc[df_expanded['origin'] == 'Netflix', 'countries'].value_counts().head(10).index\n",
    "top_countries_hulu = df_expanded.loc[df_expanded['origin'] == 'Hulu', 'countries'].value_counts().head(10).index\n",
    "top_genres_netflix = df_expanded.loc[df_expanded['origin'] == 'Netflix', 'clean_cat'].value_counts().head(10).index\n",
    "top_genres_hulu = df_expanded.loc[df_expanded['origin'] == 'Hulu', 'clean_cat'].value_counts().head(10).index\n",
    "\n",
    "df_filtered = df_expanded[((df_expanded['countries'].isin(top_countries_netflix)) |\n",
    "                (df_expanded['countries'].isin(top_countries_hulu))) &\n",
    "                ((df_expanded['clean_cat'].isin(top_genres_netflix)) |\n",
    "                (df_expanded['clean_cat'].isin(top_genres_hulu)))]\n",
    "\n",
    "genre_counts = df_filtered['clean_cat'].value_counts()\n",
    "origin_counts = df_filtered['origin'].value_counts()\n",
    "country_counts = df_filtered['countries'].value_counts()\n",
    "\n",
    "all_nodes = list(genre_counts.index) + list(origin_counts.index) + list(country_counts.index)\n",
    "node_idx = {node: idx for idx, node in enumerate(all_nodes)}\n",
    "\n",
    "links = []\n",
    "\n",
    "for country in country_counts.index:\n",
    "    df = df_filtered[df_filtered['countries'] == country]\n",
    "    for origin in df['origin'].value_counts().index:\n",
    "        links.append({\n",
    "            'source': node_idx[country],\n",
    "            'target': node_idx[origin],\n",
    "            'value': df['origin'].value_counts()[origin]\n",
    "        })\n",
    "\n",
    "for origin in origin_counts.index:\n",
    "    df = df_filtered[df_filtered['origin'] == origin]\n",
    "    for genre in df['clean_cat'].value_counts().index:\n",
    "        links.append({\n",
    "            'source': node_idx[origin],\n",
    "            'target': node_idx[genre],\n",
    "            'value': df['clean_cat'].value_counts()[genre]\n",
    "        })\n",
    "\n",
    "source = [link['source'] for link in links]\n",
    "target = [link['target'] for link in links]\n",
    "value = [link['value'] for link in links]\n",
    "\n",
    "node_rgbs = {\n",
    "    'Netflix': 'rgb(229, 9, 20)',\n",
    "    'Hulu': 'rgb(28, 231, 131)',\n",
    "    'United States': 'rgb(0, 0, 139)',\n",
    "    'India': 'rgb(25, 25, 112)',\n",
    "    'United Kingdom': 'rgb(128, 0, 128)',\n",
    "    'France': 'rgb(75, 0, 130)',\n",
    "    'Spain': 'rgb(255, 69, 0)',\n",
    "    'South Korea': 'rgb(47, 79, 79)',\n",
    "    'Mexico': 'rgb(139, 69, 19)',\n",
    "    'Canada': 'rgb(70, 130, 180)',\n",
    "    'Germany': 'rgb(255, 215, 0)',\n",
    "    'Australia': 'rgb(105, 105, 105)',\n",
    "    'Denmark': 'rgb(0, 128, 128)',\n",
    "    'Sweden': 'rgb(112, 128, 144)',\n",
    "    'Japan': 'rgb(128, 128, 0)',\n",
    "    'International': 'rgb(0, 191, 255)',\n",
    "    'Dramas': 'rgb(255, 99, 71)',\n",
    "    'Comedies': 'rgb(255, 140, 0)',\n",
    "    'Documentaries': 'rgb(244, 164, 96)',\n",
    "    'Children & Family': 'rgb(0, 139, 139)',\n",
    "    'Independent': 'rgb(138, 43, 226)',\n",
    "    'Action & Adventure': 'rgb(102, 205, 170)',\n",
    "    'Thriller': 'rgb(255, 182, 193)',\n",
    "    'Romance': 'rgb(186, 85, 211)',\n",
    "    'Horror': 'rgb(176, 224, 230)',\n",
    "    'Crime': 'rgb(255, 228, 196)',\n",
    "    'Anime': 'rgb(192, 192, 192)'\n",
    "}\n",
    "\n",
    "for link in links:\n",
    "    if link['target'] == 12 or link['source'] == 12:\n",
    "        link['color'] = 'rgba(229, 9, 20, 0.7)'\n",
    "    elif link['target'] == 13 or link['source'] ==13:\n",
    "        link['color'] = 'rgba(28, 231, 131, 0.7)'\n",
    "    else:\n",
    "        link['color'] = 'rgba(193, 193, 193, 0.7)'\n",
    "color = [link['color'] for link in links]\n",
    "\n",
    "node_colors = []\n",
    "for node in all_nodes:\n",
    "    if node == 'Netflix':\n",
    "        node_colors.append('rgb(229, 9, 20)')\n",
    "    elif node == 'Hulu':\n",
    "        node_colors.append('rgb(28, 231, 131)')\n",
    "    else:\n",
    "        node_colors.append(node_rgbs.get(node, 'rgb(193, 193, 193)'))\n",
    "\n",
    "# 12 netflix 13 hulu\n",
    "# node_idx\n",
    "idx_node = {idx: node for idx, node in enumerate(all_nodes)}\n",
    "total_catalogue = {\n",
    "    0: sum(df_expanded.loc[df_expanded['origin'] == 'Netflix', 'countries'].value_counts().head(10)), # country total for Netflix\n",
    "    1: sum(df_expanded.loc[df_expanded['origin'] == 'Hulu', 'countries'].value_counts().head(10)), # country total for Hulu\n",
    "    2: sum(df_expanded.loc[df_expanded['origin'] == 'Netflix', 'clean_cat'].value_counts().head(10)), # genre total for Netflix\n",
    "    3: sum(df_expanded.loc[df_expanded['origin'] == 'Hulu', 'clean_cat'].value_counts().head(10)) # genre total for Hulu\n",
    "}\n",
    "for link in links:\n",
    "    if link['target'] == 12:\n",
    "        # e.g. Netflix has x medias from United States\n",
    "        # Percentage: 30% of their catalogue\n",
    "        link['hover'] = str(idx_node[link['target']]) + ' has ' + '{:,}'.format(link['value']) + ' medias<br>from ' +\\\n",
    "            str(idx_node[link['source']]) + '<br>Percentage: ' + str(round((link['value']/total_catalogue[0])*100, 2)) + '%'\n",
    "    elif link['target'] == 13:\n",
    "        link['hover'] = str(idx_node[link['target']]) + ' has ' + '{:,}'.format(link['value']) + ' medias<br>from ' +\\\n",
    "            str(idx_node[link['source']]) + '<br>Percentage: ' + str(round((link['value']/total_catalogue[1])*100, 2)) + '%'\n",
    "    elif link['source'] == 12:\n",
    "        # e.g. Hulu has x medias under International\n",
    "        # Percentage: 30% of their catalogue\n",
    "        link['hover'] = str(idx_node[link['source']]) + ' has ' + '{:,}'.format(link['value']) + ' medias<br>under ' +\\\n",
    "            str(idx_node[link['target']]) + '<br>Percentage: ' + str(round((link['value']/total_catalogue[2])*100, 2)) + '%'\n",
    "    elif link['source'] == 13:\n",
    "        link['hover'] = str(idx_node[link['source']]) + ' has ' + '{:,}'.format(link['value']) + ' medias<br>under ' +\\\n",
    "            str(idx_node[link['target']]) + '<br>Percentage: ' + str(round((link['value']/total_catalogue[3])*100, 2)) + '%'\n",
    "    else:\n",
    "        link['hover'] = ''\n",
    "hover = [link['hover'] for link in links]\n",
    "\n",
    "fig = go.Figure(data=[go.Sankey(\n",
    "    textfont=dict(color=\"rgba(0,0,0,0)\", size=1),\n",
    "    node=dict(\n",
    "        pad=15,\n",
    "        thickness=30,\n",
    "        line=dict(color='white', width=0.5),\n",
    "        label=all_nodes,\n",
    "        color=node_colors,\n",
    "        hovertemplate='Sample Size: %{value:,.0f}<extra></extra>'\n",
    "    ),\n",
    "    link=dict(\n",
    "        source=source,\n",
    "        target=target,\n",
    "        value=value,\n",
    "        color=color,\n",
    "        label=hover,\n",
    "        hovertemplate='%{label}<extra></extra>'\n",
    "    )\n",
    ")])\n",
    "\n",
    "fig.add_annotation(dict(font=dict(color=node_rgbs['Netflix'],size=40), x=0.5, y=0.965, showarrow=False, text='<b>Netflix</b>'))\n",
    "fig.add_annotation(dict(font=dict(color=node_rgbs['Hulu'],size=40), x=0.5, y=0.035, showarrow=False, text='<b>Hulu</b>'))\n",
    "\n",
    "fig.add_annotation(dict(font=dict(color=node_rgbs['United States'], size=14), x=-0.135, y=0.88, showarrow=False, text='<b>United States</b>'))\n",
    "fig.add_annotation(dict(font=dict(color=node_rgbs['India'], size=14), x=-0.06, y=0.635, showarrow=False, text='<b>India</b>'))\n",
    "fig.add_annotation(dict(font=dict(color=node_rgbs['United Kingdom'], size=14), x=-0.157, y=0.52, showarrow=False, text='<b>United Kingdom</b>'))\n",
    "fig.add_annotation(dict(font=dict(color=node_rgbs['France'], size=14), x=-0.07, y=0.44, showarrow=False, text='<b>France</b>'))\n",
    "fig.add_annotation(dict(font=dict(color=node_rgbs['Spain'], size=14), x=-0.06, y=0.385, showarrow=False, text='<b>Spain</b>'))\n",
    "fig.add_annotation(dict(font=dict(color=node_rgbs['South Korea'], size=14), x=-0.12, y=0.335, showarrow=False, text='<b>South Korea</b>'))\n",
    "fig.add_annotation(dict(font=dict(color=node_rgbs['Mexico'], size=14), x=-0.07, y=0.275, showarrow=False, text='<b>Mexico</b>'))\n",
    "fig.add_annotation(dict(font=dict(color=node_rgbs['Canada'], size=14), x=-0.075, y=0.222, showarrow=False, text='<b>Canada</b>'))\n",
    "fig.add_annotation(dict(font=dict(color=node_rgbs['Germany'], size=14), x=-0.09, y=0.17, showarrow=False, text='<b>Germany</b>'))\n",
    "fig.add_annotation(dict(font=dict(color=node_rgbs['Australia'], size=14), x=-0.095, y=0.128, showarrow=False, text='<b>Australia</b>'))\n",
    "fig.add_annotation(dict(font=dict(color=node_rgbs['Denmark'], size=14), x=-0.097, y=0.095, showarrow=False, text='<b>Denmark</b>'))\n",
    "fig.add_annotation(dict(font=dict(color=node_rgbs['Sweden'], size=14), x=-0.085, y=0.065, showarrow=False, text='<b>Sweden</b>'))\n",
    "fig.add_annotation(dict(font=dict(color=node_rgbs['Japan'], size=14), x=-0.063, y=0.015, showarrow=False, text='<b>Japan</b>'))\n",
    "\n",
    "fig.add_annotation(dict(font=dict(color=node_rgbs['International'], size=14), x=1.13, y=0.92, showarrow=False, text='<b>International</b>'))\n",
    "fig.add_annotation(dict(font=dict(color=node_rgbs['Dramas'], size=14), x=1.08, y=0.765, showarrow=False, text='<b>Dramas</b>'))\n",
    "fig.add_annotation(dict(font=dict(color=node_rgbs['Comedies'], size=14), x=1.1, y=0.608, showarrow=False, text='<b>Comedies</b>'))\n",
    "fig.add_annotation(dict(font=dict(color=node_rgbs['Documentaries'], size=14), x=1.15, y=0.51, showarrow=False, text='<b>Documentaries</b>'))\n",
    "fig.add_annotation(dict(font=dict(color=node_rgbs['Children & Family'], size=14), x=1.175, y=0.43, showarrow=False, text='<b>Children & Family</b>'))\n",
    "fig.add_annotation(dict(font=dict(color=node_rgbs['Independent'], size=14), x=1.13, y=0.365, showarrow=False, text='<b>Independent</b>'))\n",
    "fig.add_annotation(dict(font=dict(color=node_rgbs['Action & Adventure'], size=14), x=1.19, y=0.27, showarrow=False, text='<b>Action & Adventure</b>'))\n",
    "fig.add_annotation(dict(font=dict(color=node_rgbs['Thriller'], size=14), x=1.075, y=0.194, showarrow=False, text='<b>Thriller</b>'))\n",
    "fig.add_annotation(dict(font=dict(color=node_rgbs['Romance'], size=14), x=1.093, y=0.136, showarrow=False, text='<b>Romance</b>'))\n",
    "fig.add_annotation(dict(font=dict(color=node_rgbs['Horror'], size=14), x=1.07, y=0.085, showarrow=False, text='<b>Horror</b>'))\n",
    "fig.add_annotation(dict(font=dict(color=node_rgbs['Crime'], size=14), x=1.065, y=0.037, showarrow=False, text='<b>Crime</b>'))\n",
    "fig.add_annotation(dict(font=dict(color=node_rgbs['Anime'], size=14), x=1.067, y=-0.005, showarrow=False, text='<b>Anime</b>'))\n",
    "\n",
    "fig.update_layout(\n",
    "    height=800, width=1200, font_size=20,\n",
    "    title_text='<b>Country and Genre Diversity of Netflix and Hulu Catalogues</b>',\n",
    "    margin=dict(l=180, r=180, t=120, b=40)\n",
    ")\n",
    "fig.show()"
   ]
  },
  {
   "cell_type": "code",
   "execution_count": null,
   "metadata": {},
   "outputs": [],
   "source": []
  }
 ],
 "metadata": {
  "kernelspec": {
   "display_name": "msds593",
   "language": "python",
   "name": "python3"
  },
  "language_info": {
   "codemirror_mode": {
    "name": "ipython",
    "version": 3
   },
   "file_extension": ".py",
   "mimetype": "text/x-python",
   "name": "python",
   "nbconvert_exporter": "python",
   "pygments_lexer": "ipython3",
   "version": "3.12.4"
  }
 },
 "nbformat": 4,
 "nbformat_minor": 2
}
